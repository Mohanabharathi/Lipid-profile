{
 "cells": [
  {
   "cell_type": "code",
   "execution_count": 2,
   "id": "35aeb653",
   "metadata": {},
   "outputs": [
    {
     "name": "stdout",
     "output_type": "stream",
     "text": [
      "Collecting twilio\n",
      "  Obtaining dependency information for twilio from https://files.pythonhosted.org/packages/38/01/5374f240380907bcd9ba676c9d5f0b3ed85fd6e8d6f6dcc29280942c132e/twilio-8.8.0-py2.py3-none-any.whl.metadata\n",
      "  Downloading twilio-8.8.0-py2.py3-none-any.whl.metadata (12 kB)\n",
      "Requirement already satisfied: pytz in c:\\users\\snekalatha\\anaconda3\\lib\\site-packages (from twilio) (2022.7)\n",
      "Requirement already satisfied: requests>=2.0.0 in c:\\users\\snekalatha\\anaconda3\\lib\\site-packages (from twilio) (2.31.0)\n",
      "Requirement already satisfied: PyJWT<3.0.0,>=2.0.0 in c:\\users\\snekalatha\\anaconda3\\lib\\site-packages (from twilio) (2.4.0)\n",
      "Collecting aiohttp>=3.8.4 (from twilio)\n",
      "  Obtaining dependency information for aiohttp>=3.8.4 from https://files.pythonhosted.org/packages/21/4e/452858698e53ddf06ea137eac268db535c9605394c27236f9986168dd82f/aiohttp-3.8.5-cp311-cp311-win_amd64.whl.metadata\n",
      "  Downloading aiohttp-3.8.5-cp311-cp311-win_amd64.whl.metadata (8.0 kB)\n",
      "Collecting aiohttp-retry>=2.8.3 (from twilio)\n",
      "  Downloading aiohttp_retry-2.8.3-py3-none-any.whl (9.8 kB)\n",
      "Requirement already satisfied: attrs>=17.3.0 in c:\\users\\snekalatha\\anaconda3\\lib\\site-packages (from aiohttp>=3.8.4->twilio) (22.1.0)\n",
      "Requirement already satisfied: charset-normalizer<4.0,>=2.0 in c:\\users\\snekalatha\\anaconda3\\lib\\site-packages (from aiohttp>=3.8.4->twilio) (2.0.4)\n",
      "Requirement already satisfied: multidict<7.0,>=4.5 in c:\\users\\snekalatha\\anaconda3\\lib\\site-packages (from aiohttp>=3.8.4->twilio) (6.0.2)\n",
      "Requirement already satisfied: async-timeout<5.0,>=4.0.0a3 in c:\\users\\snekalatha\\anaconda3\\lib\\site-packages (from aiohttp>=3.8.4->twilio) (4.0.2)\n",
      "Requirement already satisfied: yarl<2.0,>=1.0 in c:\\users\\snekalatha\\anaconda3\\lib\\site-packages (from aiohttp>=3.8.4->twilio) (1.8.1)\n",
      "Requirement already satisfied: frozenlist>=1.1.1 in c:\\users\\snekalatha\\anaconda3\\lib\\site-packages (from aiohttp>=3.8.4->twilio) (1.3.3)\n",
      "Requirement already satisfied: aiosignal>=1.1.2 in c:\\users\\snekalatha\\anaconda3\\lib\\site-packages (from aiohttp>=3.8.4->twilio) (1.2.0)\n",
      "Requirement already satisfied: idna<4,>=2.5 in c:\\users\\snekalatha\\anaconda3\\lib\\site-packages (from requests>=2.0.0->twilio) (3.4)\n",
      "Requirement already satisfied: urllib3<3,>=1.21.1 in c:\\users\\snekalatha\\anaconda3\\lib\\site-packages (from requests>=2.0.0->twilio) (1.26.16)\n",
      "Requirement already satisfied: certifi>=2017.4.17 in c:\\users\\snekalatha\\anaconda3\\lib\\site-packages (from requests>=2.0.0->twilio) (2023.7.22)\n",
      "Downloading twilio-8.8.0-py2.py3-none-any.whl (1.8 MB)\n",
      "   ---------------------------------------- 0.0/1.8 MB ? eta -:--:--\n",
      "    --------------------------------------- 0.0/1.8 MB 1.3 MB/s eta 0:00:02\n",
      "   - -------------------------------------- 0.1/1.8 MB 812.7 kB/s eta 0:00:03\n",
      "   - -------------------------------------- 0.1/1.8 MB 653.6 kB/s eta 0:00:03\n",
      "   - -------------------------------------- 0.1/1.8 MB 653.6 kB/s eta 0:00:03\n",
      "   -- ------------------------------------- 0.1/1.8 MB 552.2 kB/s eta 0:00:03\n",
      "   ---- ----------------------------------- 0.2/1.8 MB 841.6 kB/s eta 0:00:02\n",
      "   ------ --------------------------------- 0.3/1.8 MB 896.4 kB/s eta 0:00:02\n",
      "   ------- -------------------------------- 0.3/1.8 MB 952.6 kB/s eta 0:00:02\n",
      "   ---------- ----------------------------- 0.5/1.8 MB 1.1 MB/s eta 0:00:02\n",
      "   ---------- ----------------------------- 0.5/1.8 MB 1.1 MB/s eta 0:00:02\n",
      "   ------------ --------------------------- 0.5/1.8 MB 1.1 MB/s eta 0:00:02\n",
      "   ------------- -------------------------- 0.6/1.8 MB 1.1 MB/s eta 0:00:02\n",
      "   ---------------- ----------------------- 0.7/1.8 MB 1.2 MB/s eta 0:00:01\n",
      "   ---------------- ----------------------- 0.7/1.8 MB 1.2 MB/s eta 0:00:01\n",
      "   ------------------ --------------------- 0.8/1.8 MB 1.2 MB/s eta 0:00:01\n",
      "   -------------------- ------------------- 0.9/1.8 MB 1.3 MB/s eta 0:00:01\n",
      "   --------------------- ------------------ 1.0/1.8 MB 1.3 MB/s eta 0:00:01\n",
      "   ----------------------- ---------------- 1.0/1.8 MB 1.3 MB/s eta 0:00:01\n",
      "   ------------------------- -------------- 1.1/1.8 MB 1.3 MB/s eta 0:00:01\n",
      "   -------------------------- ------------- 1.2/1.8 MB 1.4 MB/s eta 0:00:01\n",
      "   --------------------------- ------------ 1.2/1.8 MB 1.3 MB/s eta 0:00:01\n",
      "   ----------------------------- ---------- 1.3/1.8 MB 1.4 MB/s eta 0:00:01\n",
      "   ----------------------------- ---------- 1.3/1.8 MB 1.3 MB/s eta 0:00:01\n",
      "   ----------------------------- ---------- 1.3/1.8 MB 1.3 MB/s eta 0:00:01\n",
      "   ------------------------------ --------- 1.4/1.8 MB 1.2 MB/s eta 0:00:01\n",
      "   ------------------------------- -------- 1.4/1.8 MB 1.2 MB/s eta 0:00:01\n",
      "   -------------------------------- ------- 1.4/1.8 MB 1.2 MB/s eta 0:00:01\n",
      "   --------------------------------- ------ 1.5/1.8 MB 1.2 MB/s eta 0:00:01\n",
      "   ---------------------------------- ----- 1.5/1.8 MB 1.2 MB/s eta 0:00:01\n",
      "   ----------------------------------- ---- 1.6/1.8 MB 1.2 MB/s eta 0:00:01\n",
      "   ------------------------------------- -- 1.7/1.8 MB 1.2 MB/s eta 0:00:01\n",
      "   ------------------------------------- -- 1.7/1.8 MB 1.2 MB/s eta 0:00:01\n",
      "   -------------------------------------- - 1.7/1.8 MB 1.2 MB/s eta 0:00:01\n",
      "   ---------------------------------------- 1.8/1.8 MB 1.2 MB/s eta 0:00:00\n",
      "Downloading aiohttp-3.8.5-cp311-cp311-win_amd64.whl (320 kB)\n",
      "   ---------------------------------------- 0.0/320.6 kB ? eta -:--:--\n",
      "   -------- ------------------------------- 71.7/320.6 kB 2.0 MB/s eta 0:00:01\n",
      "   ----------- ---------------------------- 92.2/320.6 kB 1.7 MB/s eta 0:00:01\n",
      "   --------------------- ------------------ 174.1/320.6 kB 1.5 MB/s eta 0:00:01\n",
      "   ------------------------- -------------- 204.8/320.6 kB 1.4 MB/s eta 0:00:01\n",
      "   -------------------------------------- - 307.2/320.6 kB 1.5 MB/s eta 0:00:01\n",
      "   -------------------------------------- - 307.2/320.6 kB 1.5 MB/s eta 0:00:01\n",
      "   ---------------------------------------- 320.6/320.6 kB 1.1 MB/s eta 0:00:00\n",
      "Installing collected packages: aiohttp, aiohttp-retry, twilio\n",
      "  Attempting uninstall: aiohttp\n",
      "    Found existing installation: aiohttp 3.8.3\n",
      "    Uninstalling aiohttp-3.8.3:\n",
      "      Successfully uninstalled aiohttp-3.8.3\n",
      "Successfully installed aiohttp-3.8.5 aiohttp-retry-2.8.3 twilio-8.8.0\n",
      "Note: you may need to restart the kernel to use updated packages.\n"
     ]
    }
   ],
   "source": [
    "pip install twilio"
   ]
  },
  {
   "cell_type": "code",
   "execution_count": 37,
   "id": "fcda33b6",
   "metadata": {},
   "outputs": [],
   "source": [
    "import pandas as pd #for reading dataset\n",
    "import numpy as np # array handling functions\n",
    "import os\n",
    "from twilio.rest import Client\n",
    "\n",
    "\n",
    "account_sid = 'AC635e331b3dc8ef7a11db5b43188775f6'\n",
    "auth_token = '0993237dfe91524279a3378737027934'\n",
    "client1 = Client(account_sid, auth_token)\n",
    "def sms(a):\n",
    "    ch='your cholesterol level is '+str(a)\n",
    "    message = client1.messages \\\n",
    "              .create(\n",
    "                  body=ch,\n",
    "                  from_='+12232173795',\n",
    "                  to='+919443456184'\n",
    "                  )\n",
    "    print(message.sid)\n",
    "    message = client1.messages \\\n",
    "              .create(\n",
    "                  body=ch,\n",
    "                  from_='+12232173795',\n",
    "                  to='+917904571252'\n",
    "                  )\n",
    "    print(message.sid)\n",
    "    message = client1.messages \\\n",
    "              .create(\n",
    "                  body=ch,\n",
    "                  from_='+12232173795',\n",
    "                  to='+918778349167'\n",
    "                  )\n",
    "    print(message.sid)\n"
   ]
  },
  {
   "cell_type": "code",
   "execution_count": 7,
   "id": "c200c38a",
   "metadata": {},
   "outputs": [
    {
     "name": "stdout",
     "output_type": "stream",
     "text": [
      "     age  sex  cp  trestbps  fbs  restecg  thalach  exang  oldpeak  slope ca  \\\n",
      "0     63    1   1       145    1        2      150      0      2.3      3  0   \n",
      "1     67    1   4       160    0        2      108      1      1.5      2  3   \n",
      "2     67    1   4       120    0        2      129      1      2.6      2  2   \n",
      "3     37    1   3       130    0        0      187      0      3.5      3  0   \n",
      "4     41    0   2       130    0        2      172      0      1.4      1  0   \n",
      "..   ...  ...  ..       ...  ...      ...      ...    ...      ...    ... ..   \n",
      "298   45    1   1       110    0        0      132      0      1.2      2  0   \n",
      "299   68    1   4       144    1        0      141      0      3.4      2  2   \n",
      "300   57    1   4       130    0        0      115      1      1.2      2  1   \n",
      "301   57    0   2       130    0        2      174      0      0.0      2  1   \n",
      "302   38    1   3       138    0        0      173      0      0.0      1  ?   \n",
      "\n",
      "    thal  num  chol  \n",
      "0      6    0   233  \n",
      "1      3    2   286  \n",
      "2      7    1   229  \n",
      "3      3    0   250  \n",
      "4      3    0   204  \n",
      "..   ...  ...   ...  \n",
      "298    7    1   264  \n",
      "299    7    2   193  \n",
      "300    7    3   131  \n",
      "301    3    1   236  \n",
      "302    3    0   175  \n",
      "\n",
      "[303 rows x 14 columns]\n"
     ]
    }
   ],
   "source": [
    "dataset = pd.read_csv(r\"C:\\Users\\Snekalatha\\Downloads\\dataset_2190_cholesterol.csv\")#reading dataset\n",
    "print(dataset) # printing dataset"
   ]
  },
  {
   "cell_type": "code",
   "execution_count": 13,
   "id": "25c205c5",
   "metadata": {},
   "outputs": [
    {
     "name": "stdout",
     "output_type": "stream",
     "text": [
      "<class 'pandas.core.frame.DataFrame'>\n",
      "RangeIndex: 303 entries, 0 to 302\n",
      "Data columns (total 14 columns):\n",
      " #   Column    Non-Null Count  Dtype  \n",
      "---  ------    --------------  -----  \n",
      " 0   age       303 non-null    float64\n",
      " 1   sex       303 non-null    float64\n",
      " 2   cp        303 non-null    float64\n",
      " 3   trestbps  303 non-null    float64\n",
      " 4   fbs       303 non-null    float64\n",
      " 5   restecg   303 non-null    float64\n",
      " 6   thalach   303 non-null    float64\n",
      " 7   exang     303 non-null    float64\n",
      " 8   oldpeak   303 non-null    float64\n",
      " 9   slope     303 non-null    float64\n",
      " 10  ca        303 non-null    object \n",
      " 11  thal      303 non-null    object \n",
      " 12  num       303 non-null    int64  \n",
      " 13  chol      303 non-null    int64  \n",
      "dtypes: float64(10), int64(2), object(2)\n",
      "memory usage: 33.3+ KB\n"
     ]
    }
   ],
   "source": [
    "dataset.info()"
   ]
  },
  {
   "cell_type": "code",
   "execution_count": 18,
   "id": "369682db",
   "metadata": {},
   "outputs": [],
   "source": [
    "dataset.replace({'?':0 }, inplace=True)"
   ]
  },
  {
   "cell_type": "code",
   "execution_count": 19,
   "id": "2f708d56",
   "metadata": {},
   "outputs": [],
   "source": [
    "for column in dataset.columns:\n",
    "    if dataset.columns.dtype=='object':\n",
    "        dataset[column] = dataset[column].astype('int64')"
   ]
  },
  {
   "cell_type": "code",
   "execution_count": 20,
   "id": "60a10374",
   "metadata": {},
   "outputs": [
    {
     "name": "stdout",
     "output_type": "stream",
     "text": [
      "x= [[63  1  1 ...  0  6  0]\n",
      " [67  1  4 ...  3  3  2]\n",
      " [67  1  4 ...  2  7  1]\n",
      " ...\n",
      " [57  1  4 ...  1  7  3]\n",
      " [57  0  2 ...  1  3  1]\n",
      " [38  1  3 ...  0  3  0]]\n",
      "y= [233 286 229 250 204 236 268 354 254 203 192 294 256 263 199 168 229 239\n",
      " 275 266 211 283 284 224 206 219 340 226 247 167 239 230 335 234 233 226\n",
      " 177 276 353 243 225 199 302 212 330 230 175 243 417 197 198 177 290 219\n",
      " 253 266 233 172 273 213 305 177 216 304 188 282 185 232 326 231 269 254\n",
      " 267 248 197 360 258 308 245 270 208 264 321 274 325 235 257 216 234 256\n",
      " 302 164 231 141 252 255 239 258 201 222 260 182 303 265 188 309 177 229\n",
      " 260 219 307 249 186 341 263 203 211 183 330 254 256 407 222 217 282 234\n",
      " 288 239 220 209 258 227 204 261 213 250 174 281 198 245 221 288 205 309\n",
      " 240 243 289 250 308 318 298 265 564 289 246 322 299 300 293 277 197 304\n",
      " 214 248 255 207 223 288 282 160 269 226 249 394 212 274 233 184 315 246\n",
      " 274 409 244 270 305 195 240 246 283 254 196 298 247 294 211 299 234 236\n",
      " 244 273 254 325 126 313 211 309 259 200 262 244 215 231 214 228 230 193\n",
      " 204 243 303 271 268 267 199 282 269 210 204 277 206 212 196 327 149 269\n",
      " 201 286 283 249 271 295 235 306 269 234 178 237 234 275 212 208 201 218\n",
      " 263 295 303 209 223 197 245 261 242 319 240 226 166 315 204 218 223 180\n",
      " 207 228 311 149 204 227 278 220 232 197 335 253 205 192 203 318 225 220\n",
      " 221 240 212 342 169 187 197 157 176 241 264 193 131 236 175]\n"
     ]
    }
   ],
   "source": [
    "x = dataset.iloc[:,:-1].values #locating inputs\n",
    "y = dataset.iloc[:,-1].values #locating outputs\n",
    "#printing X and Y\n",
    "print(\"x=\",x)\n",
    "print(\"y=\",y)\n"
   ]
  },
  {
   "cell_type": "code",
   "execution_count": 21,
   "id": "1c2c36df",
   "metadata": {},
   "outputs": [
    {
     "name": "stdout",
     "output_type": "stream",
     "text": [
      "x_train= [[62  0  4 ...  0  3  0]\n",
      " [58  0  2 ...  2  3  3]\n",
      " [57  1  4 ...  1  6  1]\n",
      " ...\n",
      " [35  0  4 ...  0  3  0]\n",
      " [50  1  4 ...  0  7  4]\n",
      " [59  0  4 ...  0  3  1]]\n",
      "x_test= [[ 34   0   2 118   0   0 192   0   0   1   0   3   0]\n",
      " [ 67   0   3 115   0   2 160   0   1   2   0   7   0]\n",
      " [ 54   1   4 110   0   2 108   1   0   2   1   3   3]\n",
      " [ 64   0   4 180   0   0 154   1   0   1   0   3   0]\n",
      " [ 44   1   4 112   0   2 153   0   0   1   1   3   2]\n",
      " [ 67   1   4 120   0   0  71   0   1   2   0   3   2]\n",
      " [ 57   1   4 152   0   0  88   1   1   2   1   7   1]\n",
      " [ 35   1   4 126   0   2 156   1   0   1   0   7   1]\n",
      " [ 53   1   4 123   0   0  95   1   2   2   2   7   3]\n",
      " [ 46   0   4 138   0   2 152   1   0   2   0   3   0]\n",
      " [ 56   1   4 125   1   2 144   1   1   2   1   3   1]\n",
      " [ 55   0   2 135   0   2 161   0   1   2   0   3   0]\n",
      " [ 64   0   4 130   0   0 122   0   2   2   2   3   0]\n",
      " [ 56   1   3 130   1   2 142   1   0   2   1   6   2]\n",
      " [ 57   1   3 150   0   0 174   0   1   1   0   3   0]\n",
      " [ 60   1   3 140   0   2 155   0   3   2   0   3   1]\n",
      " [ 60   0   4 150   0   2 157   0   2   2   2   7   3]\n",
      " [ 66   1   4 120   0   2 151   0   0   2   0   3   0]\n",
      " [ 50   0   2 120   0   0 162   0   1   1   0   3   0]\n",
      " [ 71   0   3 110   1   2 130   0   0   1   1   3   0]\n",
      " [ 58   1   2 120   0   2 160   0   1   2   0   3   1]\n",
      " [ 41   1   3 130   0   2 168   0   2   2   0   3   0]\n",
      " [ 47   1   4 112   0   0 143   0   0   1   0   3   0]\n",
      " [ 61   1   4 138   0   2 125   1   3   2   1   3   4]\n",
      " [ 51   1   4 140   0   2 186   1   0   1   0   3   0]\n",
      " [ 46   0   2 105   0   0 172   0   0   1   0   3   0]\n",
      " [ 64   1   1 170   0   2 155   0   0   2   0   7   0]\n",
      " [ 61   1   4 140   0   2 138   1   1   1   1   7   1]\n",
      " [ 64   1   4 120   0   2  96   1   2   3   1   3   3]\n",
      " [ 54   1   4 124   0   2 109   1   2   2   1   7   1]\n",
      " [ 68   0   3 120   0   2 115   0   1   2   0   3   0]\n",
      " [ 42   0   3 120   0   0 173   0   0   2   0   3   0]\n",
      " [ 43   0   3 122   0   0 165   0   0   2   0   3   0]\n",
      " [ 63   1   4 130   0   2 147   0   1   2   1   7   2]\n",
      " [ 58   1   4 125   0   2 171   0   0   1   2   7   1]\n",
      " [ 41   0   2 126   0   0 163   0   0   1   0   3   0]\n",
      " [ 41   1   2 110   0   0 153   0   0   1   0   3   0]\n",
      " [ 53   0   4 130   0   2 143   0   0   2   0   3   0]\n",
      " [ 52   1   4 112   0   0 160   0   0   1   1   3   1]\n",
      " [ 54   0   2 132   1   2 159   1   0   1   1   3   0]\n",
      " [ 56   1   2 120   0   0 178   0   0   1   0   3   0]\n",
      " [ 51   1   1 125   0   2 125   1   1   1   1   3   0]\n",
      " [ 62   1   3 130   0   0 146   0   1   2   3   7   0]\n",
      " [ 59   1   1 134   0   0 162   0   0   1   2   3   1]\n",
      " [ 44   1   3 130   0   0 179   1   0   1   0   3   0]\n",
      " [ 47   1   3 108   0   0 152   0   0   1   0   3   1]\n",
      " [ 58   1   3 140   1   2 165   0   0   1   0   3   0]\n",
      " [ 54   1   2 192   0   2 195   0   0   1   1   7   1]\n",
      " [ 58   1   4 100   0   0 156   0   0   1   1   7   2]\n",
      " [ 57   0   4 120   0   0 163   1   0   1   0   3   0]\n",
      " [ 58   1   3 112   0   2 165   0   2   2   1   7   4]\n",
      " [ 62   0   4 124   0   0 163   0   0   1   0   3   0]\n",
      " [ 51   1   3 100   0   0 143   1   1   2   0   3   0]\n",
      " [ 54   0   3 135   1   0 170   0   0   1   0   3   0]\n",
      " [ 65   1   1 138   1   2 174   0   1   2   1   3   1]\n",
      " [ 67   0   3 152   0   0 172   0   0   1   1   3   0]\n",
      " [ 57   1   4 165   1   2 124   0   1   2   3   7   4]\n",
      " [ 38   1   3 138   0   0 173   0   0   1   0   3   0]\n",
      " [ 58   0   3 120   0   0 172   0   0   1   0   3   0]\n",
      " [ 61   1   4 120   0   0 140   1   3   2   1   7   2]\n",
      " [ 51   0   3 130   0   2 149   0   0   1   0   3   0]\n",
      " [ 44   1   4 110   0   2 177   0   0   1   1   3   1]\n",
      " [ 55   1   4 160   0   2 145   1   0   2   1   7   4]\n",
      " [ 54   1   4 120   0   0 113   0   1   2   1   7   2]\n",
      " [ 59   1   4 164   1   2  90   0   1   2   2   6   3]\n",
      " [ 58   1   2 125   0   0 144   0   0   2   0   7   0]\n",
      " [ 58   0   4 170   1   2 146   1   2   2   2   6   2]\n",
      " [ 56   1   4 130   1   2 103   1   1   3   0   7   2]\n",
      " [ 56   0   4 200   1   2 133   1   4   3   2   7   3]\n",
      " [ 65   1   4 110   0   2 158   0   0   1   2   6   1]\n",
      " [ 64   1   1 110   0   2 144   1   1   2   0   3   0]\n",
      " [ 51   1   3 110   0   0 123   0   0   1   0   3   0]\n",
      " [ 46   1   2 101   1   0 156   0   0   1   0   7   0]\n",
      " [ 49   1   3 118   0   2 126   0   0   1   3   3   1]\n",
      " [ 56   0   4 134   0   2 150   1   1   2   2   7   2]\n",
      " [ 66   0   1 150   0   0 114   0   2   3   0   3   0]]\n",
      "y_train= [394 319 276 182 223 269 305 255 259 212 295 187 258 311 271 281 177 203\n",
      " 330 245 275 221 299 241 263 253 201 275 309 303 244 233 254 240 208 244\n",
      " 212 271 293 233 234 274 174 215 330 305 277 205 307 283 167 298 229 360\n",
      " 219 246 192 204 239 212 177 232 157 204 226 253 225 254 263 229 254 250\n",
      " 304 234 206 239 308 197 196 266 197 286 223 208 177 229 295 188 240 257\n",
      " 192 269 273 199 199 322 198 193 249 217 268 216 298 196 258 228 246 212\n",
      " 263 198 273 199 318 186 264 201 267 141 262 214 177 315 341 233 252 197\n",
      " 255 193 226 223 231 197 417 235 131 288 200 224 201 308 309 245 274 260\n",
      " 211 227 180 236 234 268 326 313 325 269 407 221 245 278 205 261 164 321\n",
      " 318 294 254 303 226 172 160 327 282 286 256 218 240 302 309 204 270 239\n",
      " 228 353 219 242 220 247 270 248 265 178 126 230 335 239 195 335 149 250\n",
      " 232 184 222 236 234 203 315 267 219 207 240 212 342 243 294 234 269 216\n",
      " 169 269 220 231 203 299 218 247 183 243 249]\n",
      "y_test= [210 564 206 325 290 237 274 282 282 243 249 250 303 256 168 185 258 302\n",
      " 244 265 284 214 204 166 261 204 227 207 246 266 211 209 213 254 300 306\n",
      " 235 264 230 288 236 213 231 204 233 243 211 283 234 354 230 209 222 304\n",
      " 282 277 289 175 340 260 256 197 289 188 176 220 225 283 288 248 211 175\n",
      " 197 149 409 226]\n"
     ]
    }
   ],
   "source": [
    "from sklearn.model_selection import train_test_split # for splitting dataset\n",
    "x_train,x_test,y_train,y_test = train_test_split(x ,y, test_size = 0.25 ,random_state = 0)\n",
    "#printing the spliited dataset\n",
    "print(\"x_train=\",x_train)\n",
    "print(\"x_test=\",x_test)\n",
    "print(\"y_train=\",y_train)\n",
    "print(\"y_test=\",y_test)"
   ]
  },
  {
   "cell_type": "code",
   "execution_count": 28,
   "id": "e34622c3",
   "metadata": {},
   "outputs": [
    {
     "data": {
      "text/html": [
       "<style>#sk-container-id-3 {color: black;}#sk-container-id-3 pre{padding: 0;}#sk-container-id-3 div.sk-toggleable {background-color: white;}#sk-container-id-3 label.sk-toggleable__label {cursor: pointer;display: block;width: 100%;margin-bottom: 0;padding: 0.3em;box-sizing: border-box;text-align: center;}#sk-container-id-3 label.sk-toggleable__label-arrow:before {content: \"▸\";float: left;margin-right: 0.25em;color: #696969;}#sk-container-id-3 label.sk-toggleable__label-arrow:hover:before {color: black;}#sk-container-id-3 div.sk-estimator:hover label.sk-toggleable__label-arrow:before {color: black;}#sk-container-id-3 div.sk-toggleable__content {max-height: 0;max-width: 0;overflow: hidden;text-align: left;background-color: #f0f8ff;}#sk-container-id-3 div.sk-toggleable__content pre {margin: 0.2em;color: black;border-radius: 0.25em;background-color: #f0f8ff;}#sk-container-id-3 input.sk-toggleable__control:checked~div.sk-toggleable__content {max-height: 200px;max-width: 100%;overflow: auto;}#sk-container-id-3 input.sk-toggleable__control:checked~label.sk-toggleable__label-arrow:before {content: \"▾\";}#sk-container-id-3 div.sk-estimator input.sk-toggleable__control:checked~label.sk-toggleable__label {background-color: #d4ebff;}#sk-container-id-3 div.sk-label input.sk-toggleable__control:checked~label.sk-toggleable__label {background-color: #d4ebff;}#sk-container-id-3 input.sk-hidden--visually {border: 0;clip: rect(1px 1px 1px 1px);clip: rect(1px, 1px, 1px, 1px);height: 1px;margin: -1px;overflow: hidden;padding: 0;position: absolute;width: 1px;}#sk-container-id-3 div.sk-estimator {font-family: monospace;background-color: #f0f8ff;border: 1px dotted black;border-radius: 0.25em;box-sizing: border-box;margin-bottom: 0.5em;}#sk-container-id-3 div.sk-estimator:hover {background-color: #d4ebff;}#sk-container-id-3 div.sk-parallel-item::after {content: \"\";width: 100%;border-bottom: 1px solid gray;flex-grow: 1;}#sk-container-id-3 div.sk-label:hover label.sk-toggleable__label {background-color: #d4ebff;}#sk-container-id-3 div.sk-serial::before {content: \"\";position: absolute;border-left: 1px solid gray;box-sizing: border-box;top: 0;bottom: 0;left: 50%;z-index: 0;}#sk-container-id-3 div.sk-serial {display: flex;flex-direction: column;align-items: center;background-color: white;padding-right: 0.2em;padding-left: 0.2em;position: relative;}#sk-container-id-3 div.sk-item {position: relative;z-index: 1;}#sk-container-id-3 div.sk-parallel {display: flex;align-items: stretch;justify-content: center;background-color: white;position: relative;}#sk-container-id-3 div.sk-item::before, #sk-container-id-3 div.sk-parallel-item::before {content: \"\";position: absolute;border-left: 1px solid gray;box-sizing: border-box;top: 0;bottom: 0;left: 50%;z-index: -1;}#sk-container-id-3 div.sk-parallel-item {display: flex;flex-direction: column;z-index: 1;position: relative;background-color: white;}#sk-container-id-3 div.sk-parallel-item:first-child::after {align-self: flex-end;width: 50%;}#sk-container-id-3 div.sk-parallel-item:last-child::after {align-self: flex-start;width: 50%;}#sk-container-id-3 div.sk-parallel-item:only-child::after {width: 0;}#sk-container-id-3 div.sk-dashed-wrapped {border: 1px dashed gray;margin: 0 0.4em 0.5em 0.4em;box-sizing: border-box;padding-bottom: 0.4em;background-color: white;}#sk-container-id-3 div.sk-label label {font-family: monospace;font-weight: bold;display: inline-block;line-height: 1.2em;}#sk-container-id-3 div.sk-label-container {text-align: center;}#sk-container-id-3 div.sk-container {/* jupyter's `normalize.less` sets `[hidden] { display: none; }` but bootstrap.min.css set `[hidden] { display: none !important; }` so we also need the `!important` here to be able to override the default hidden behavior on the sphinx rendered scikit-learn.org. See: https://github.com/scikit-learn/scikit-learn/issues/21755 */display: inline-block !important;position: relative;}#sk-container-id-3 div.sk-text-repr-fallback {display: none;}</style><div id=\"sk-container-id-3\" class=\"sk-top-container\"><div class=\"sk-text-repr-fallback\"><pre>DecisionTreeClassifier()</pre><b>In a Jupyter environment, please rerun this cell to show the HTML representation or trust the notebook. <br />On GitHub, the HTML representation is unable to render, please try loading this page with nbviewer.org.</b></div><div class=\"sk-container\" hidden><div class=\"sk-item\"><div class=\"sk-estimator sk-toggleable\"><input class=\"sk-toggleable__control sk-hidden--visually\" id=\"sk-estimator-id-3\" type=\"checkbox\" checked><label for=\"sk-estimator-id-3\" class=\"sk-toggleable__label sk-toggleable__label-arrow\">DecisionTreeClassifier</label><div class=\"sk-toggleable__content\"><pre>DecisionTreeClassifier()</pre></div></div></div></div></div>"
      ],
      "text/plain": [
       "DecisionTreeClassifier()"
      ]
     },
     "execution_count": 28,
     "metadata": {},
     "output_type": "execute_result"
    }
   ],
   "source": [
    "from sklearn.tree import DecisionTreeClassifier\n",
    "classifier=DecisionTreeClassifier()\n",
    "classifier.fit(x_train,y_train)#trainig Algorithm"
   ]
  },
  {
   "cell_type": "code",
   "execution_count": 29,
   "id": "ca8abb03",
   "metadata": {},
   "outputs": [
    {
     "name": "stdout",
     "output_type": "stream",
     "text": [
      "y_pred [157 277 286 201 247 267 184 172 178 236 208 196 243 256 239 197 288 197\n",
      " 342 269 245 167 253 327 271 342 407 253 267 258 294 240 180 212 193 198\n",
      " 198 236 335 234 325 273 253 239 226 335 246 199 239 269 239 269 239 269\n",
      " 234 269 298 215 269 311 234 235 199 188 218 309 326 184 298 277 234 275\n",
      " 233 275 205 294]\n"
     ]
    }
   ],
   "source": [
    "y_pred=classifier.predict(x_test) #testing model\n",
    "print(\"y_pred\",y_pred) # predicted output\n"
   ]
  },
  {
   "cell_type": "code",
   "execution_count": 30,
   "id": "42d14a9a",
   "metadata": {},
   "outputs": [
    {
     "name": "stdout",
     "output_type": "stream",
     "text": [
      "Accuracy: 0.03\n"
     ]
    }
   ],
   "source": [
    "from sklearn.metrics import accuracy_score\n",
    "accuracy = accuracy_score(y_pred, y_test)\n",
    "print(f'Accuracy: {accuracy:.2f}')"
   ]
  },
  {
   "cell_type": "code",
   "execution_count": 31,
   "id": "00f5a2f7",
   "metadata": {},
   "outputs": [
    {
     "name": "stdout",
     "output_type": "stream",
     "text": [
      "ENTER THE AGE= 45\n",
      "ENTER THE SEX= 1\n",
      "ENTER THE CP= 45\n",
      "ENTER THE TRESTBPS= 64\n",
      "ENTER THE FBS= 67\n",
      "ENTER THE REST ECG= 24\n",
      "ENTER THE THALACH= 65\n",
      "ENTER THE EXANG= 24\n",
      "ENTER THE OLD PEAK= 25\n",
      "ENTER THE SLOPE= 87\n",
      "ENTER THE CA= 35\n",
      "ENTER THE THAL= 24\n",
      "ENTER THE NUM= 26\n",
      "Predicted new output value: [178]\n"
     ]
    }
   ],
   "source": [
    "a1=float(input(\"ENTER THE AGE= \"))\n",
    "b1=float(input(\"ENTER THE SEX= \"))\n",
    "c1=float(input(\"ENTER THE CP= \"))\n",
    "d1=float(input(\"ENTER THE TRESTBPS= \"))\n",
    "e1=float(input(\"ENTER THE FBS= \"))\n",
    "f1=float(input(\"ENTER THE REST ECG= \"))\n",
    "g1=float(input(\"ENTER THE THALACH= \"))\n",
    "h1=float(input(\"ENTER THE EXANG= \"))\n",
    "i1=float(input(\"ENTER THE OLD PEAK= \"))\n",
    "j1=float(input(\"ENTER THE SLOPE= \"))\n",
    "k1=float(input(\"ENTER THE CA= \"))\n",
    "l1=float(input(\"ENTER THE THAL= \"))\n",
    "m1=float(input(\"ENTER THE NUM= \"))\n",
    "##\n",
    "a = classifier.predict([[a1,b1,c1,d1,e1,f1,g1,h1,i1,j1,k1,l1,m1]])\n",
    "print('Predicted new output value: %s' % (a))\n"
   ]
  },
  {
   "cell_type": "code",
   "execution_count": 38,
   "id": "62d5ed61",
   "metadata": {},
   "outputs": [
    {
     "ename": "TwilioRestException",
     "evalue": "HTTP 400 error: Unable to create record: The From phone number +15005550006 is not a valid, SMS-capable inbound phone number or short code for your account.",
     "output_type": "error",
     "traceback": [
      "\u001b[1;31m---------------------------------------------------------------------------\u001b[0m",
      "\u001b[1;31mTwilioRestException\u001b[0m                       Traceback (most recent call last)",
      "Cell \u001b[1;32mIn[38], line 1\u001b[0m\n\u001b[1;32m----> 1\u001b[0m sms(a)\n",
      "Cell \u001b[1;32mIn[37], line 11\u001b[0m, in \u001b[0;36msms\u001b[1;34m(a)\u001b[0m\n\u001b[0;32m      8\u001b[0m \u001b[38;5;28;01mdef\u001b[39;00m \u001b[38;5;21msms\u001b[39m(a):\n\u001b[0;32m      9\u001b[0m     ch\u001b[38;5;241m=\u001b[39m\u001b[38;5;124m'\u001b[39m\u001b[38;5;124myour cholesterol level is \u001b[39m\u001b[38;5;124m'\u001b[39m\u001b[38;5;241m+\u001b[39m\u001b[38;5;28mstr\u001b[39m(a)\n\u001b[0;32m     10\u001b[0m     message \u001b[38;5;241m=\u001b[39m client1\u001b[38;5;241m.\u001b[39mmessages \\\n\u001b[1;32m---> 11\u001b[0m               \u001b[38;5;241m.\u001b[39mcreate(\n\u001b[0;32m     12\u001b[0m                   body\u001b[38;5;241m=\u001b[39mch,\n\u001b[0;32m     13\u001b[0m                   from_\u001b[38;5;241m=\u001b[39m\u001b[38;5;124m'\u001b[39m\u001b[38;5;124m+15005550006\u001b[39m\u001b[38;5;124m'\u001b[39m,\n\u001b[0;32m     14\u001b[0m                   to\u001b[38;5;241m=\u001b[39m\u001b[38;5;124m'\u001b[39m\u001b[38;5;124m+919600606811\u001b[39m\u001b[38;5;124m'\u001b[39m\n\u001b[0;32m     15\u001b[0m                   )\n\u001b[0;32m     16\u001b[0m     \u001b[38;5;28mprint\u001b[39m(message\u001b[38;5;241m.\u001b[39msid)\n\u001b[0;32m     17\u001b[0m     message \u001b[38;5;241m=\u001b[39m client1\u001b[38;5;241m.\u001b[39mmessages \\\n\u001b[0;32m     18\u001b[0m               \u001b[38;5;241m.\u001b[39mcreate(\n\u001b[0;32m     19\u001b[0m                   body\u001b[38;5;241m=\u001b[39mch,\n\u001b[0;32m     20\u001b[0m                   from_\u001b[38;5;241m=\u001b[39m\u001b[38;5;124m'\u001b[39m\u001b[38;5;124m+15005550006\u001b[39m\u001b[38;5;124m'\u001b[39m,\n\u001b[0;32m     21\u001b[0m                   to\u001b[38;5;241m=\u001b[39m\u001b[38;5;124m'\u001b[39m\u001b[38;5;124m+917904571252\u001b[39m\u001b[38;5;124m'\u001b[39m\n\u001b[0;32m     22\u001b[0m                   )\n",
      "File \u001b[1;32m~\\anaconda3\\Lib\\site-packages\\twilio\\rest\\api\\v2010\\account\\message\\__init__.py:565\u001b[0m, in \u001b[0;36mMessageList.create\u001b[1;34m(self, to, status_callback, application_sid, max_price, provide_feedback, attempt, validity_period, force_delivery, content_retention, address_retention, smart_encoded, persistent_action, shorten_urls, schedule_type, send_at, send_as_mms, content_variables, tags, risk_check, from_, messaging_service_sid, body, media_url, content_sid)\u001b[0m\n\u001b[0;32m    506\u001b[0m \u001b[38;5;250m\u001b[39m\u001b[38;5;124;03m\"\"\"\u001b[39;00m\n\u001b[0;32m    507\u001b[0m \u001b[38;5;124;03mCreate the MessageInstance\u001b[39;00m\n\u001b[0;32m    508\u001b[0m \n\u001b[1;32m   (...)\u001b[0m\n\u001b[0;32m    534\u001b[0m \u001b[38;5;124;03m:returns: The created MessageInstance\u001b[39;00m\n\u001b[0;32m    535\u001b[0m \u001b[38;5;124;03m\"\"\"\u001b[39;00m\n\u001b[0;32m    536\u001b[0m data \u001b[38;5;241m=\u001b[39m values\u001b[38;5;241m.\u001b[39mof(\n\u001b[0;32m    537\u001b[0m     {\n\u001b[0;32m    538\u001b[0m         \u001b[38;5;124m\"\u001b[39m\u001b[38;5;124mTo\u001b[39m\u001b[38;5;124m\"\u001b[39m: to,\n\u001b[1;32m   (...)\u001b[0m\n\u001b[0;32m    562\u001b[0m     }\n\u001b[0;32m    563\u001b[0m )\n\u001b[1;32m--> 565\u001b[0m payload \u001b[38;5;241m=\u001b[39m \u001b[38;5;28mself\u001b[39m\u001b[38;5;241m.\u001b[39m_version\u001b[38;5;241m.\u001b[39mcreate(\n\u001b[0;32m    566\u001b[0m     method\u001b[38;5;241m=\u001b[39m\u001b[38;5;124m\"\u001b[39m\u001b[38;5;124mPOST\u001b[39m\u001b[38;5;124m\"\u001b[39m,\n\u001b[0;32m    567\u001b[0m     uri\u001b[38;5;241m=\u001b[39m\u001b[38;5;28mself\u001b[39m\u001b[38;5;241m.\u001b[39m_uri,\n\u001b[0;32m    568\u001b[0m     data\u001b[38;5;241m=\u001b[39mdata,\n\u001b[0;32m    569\u001b[0m )\n\u001b[0;32m    571\u001b[0m \u001b[38;5;28;01mreturn\u001b[39;00m MessageInstance(\n\u001b[0;32m    572\u001b[0m     \u001b[38;5;28mself\u001b[39m\u001b[38;5;241m.\u001b[39m_version, payload, account_sid\u001b[38;5;241m=\u001b[39m\u001b[38;5;28mself\u001b[39m\u001b[38;5;241m.\u001b[39m_solution[\u001b[38;5;124m\"\u001b[39m\u001b[38;5;124maccount_sid\u001b[39m\u001b[38;5;124m\"\u001b[39m]\n\u001b[0;32m    573\u001b[0m )\n",
      "File \u001b[1;32m~\\anaconda3\\Lib\\site-packages\\twilio\\base\\version.py:465\u001b[0m, in \u001b[0;36mVersion.create\u001b[1;34m(self, method, uri, params, data, headers, auth, timeout, allow_redirects)\u001b[0m\n\u001b[0;32m    451\u001b[0m \u001b[38;5;250m\u001b[39m\u001b[38;5;124;03m\"\"\"\u001b[39;00m\n\u001b[0;32m    452\u001b[0m \u001b[38;5;124;03mCreate a resource instance.\u001b[39;00m\n\u001b[0;32m    453\u001b[0m \u001b[38;5;124;03m\"\"\"\u001b[39;00m\n\u001b[0;32m    454\u001b[0m response \u001b[38;5;241m=\u001b[39m \u001b[38;5;28mself\u001b[39m\u001b[38;5;241m.\u001b[39mrequest(\n\u001b[0;32m    455\u001b[0m     method,\n\u001b[0;32m    456\u001b[0m     uri,\n\u001b[1;32m   (...)\u001b[0m\n\u001b[0;32m    462\u001b[0m     allow_redirects\u001b[38;5;241m=\u001b[39mallow_redirects,\n\u001b[0;32m    463\u001b[0m )\n\u001b[1;32m--> 465\u001b[0m \u001b[38;5;28;01mreturn\u001b[39;00m \u001b[38;5;28mself\u001b[39m\u001b[38;5;241m.\u001b[39m_parse_create(method, uri, response)\n",
      "File \u001b[1;32m~\\anaconda3\\Lib\\site-packages\\twilio\\base\\version.py:436\u001b[0m, in \u001b[0;36mVersion._parse_create\u001b[1;34m(self, method, uri, response)\u001b[0m\n\u001b[0;32m    432\u001b[0m \u001b[38;5;250m\u001b[39m\u001b[38;5;124;03m\"\"\"\u001b[39;00m\n\u001b[0;32m    433\u001b[0m \u001b[38;5;124;03mParse create response JSON\u001b[39;00m\n\u001b[0;32m    434\u001b[0m \u001b[38;5;124;03m\"\"\"\u001b[39;00m\n\u001b[0;32m    435\u001b[0m \u001b[38;5;28;01mif\u001b[39;00m response\u001b[38;5;241m.\u001b[39mstatus_code \u001b[38;5;241m<\u001b[39m \u001b[38;5;241m200\u001b[39m \u001b[38;5;129;01mor\u001b[39;00m response\u001b[38;5;241m.\u001b[39mstatus_code \u001b[38;5;241m>\u001b[39m\u001b[38;5;241m=\u001b[39m \u001b[38;5;241m300\u001b[39m:\n\u001b[1;32m--> 436\u001b[0m     \u001b[38;5;28;01mraise\u001b[39;00m \u001b[38;5;28mself\u001b[39m\u001b[38;5;241m.\u001b[39mexception(method, uri, response, \u001b[38;5;124m\"\u001b[39m\u001b[38;5;124mUnable to create record\u001b[39m\u001b[38;5;124m\"\u001b[39m)\n\u001b[0;32m    438\u001b[0m \u001b[38;5;28;01mreturn\u001b[39;00m json\u001b[38;5;241m.\u001b[39mloads(response\u001b[38;5;241m.\u001b[39mtext)\n",
      "\u001b[1;31mTwilioRestException\u001b[0m: HTTP 400 error: Unable to create record: The From phone number +15005550006 is not a valid, SMS-capable inbound phone number or short code for your account."
     ]
    }
   ],
   "source": [
    "sms(a)"
   ]
  },
  {
   "cell_type": "code",
   "execution_count": null,
   "id": "02f30e94",
   "metadata": {},
   "outputs": [],
   "source": []
  }
 ],
 "metadata": {
  "kernelspec": {
   "display_name": "Python 3 (ipykernel)",
   "language": "python",
   "name": "python3"
  },
  "language_info": {
   "codemirror_mode": {
    "name": "ipython",
    "version": 3
   },
   "file_extension": ".py",
   "mimetype": "text/x-python",
   "name": "python",
   "nbconvert_exporter": "python",
   "pygments_lexer": "ipython3",
   "version": "3.11.3"
  }
 },
 "nbformat": 4,
 "nbformat_minor": 5
}
